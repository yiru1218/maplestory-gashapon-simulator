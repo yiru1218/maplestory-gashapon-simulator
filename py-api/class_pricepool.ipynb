{
 "cells": [
  {
   "cell_type": "code",
   "execution_count": 3,
   "metadata": {},
   "outputs": [],
   "source": [
    "from flask import Flask, render_template, jsonify\n",
    "import random\n",
    "import threading\n",
    "import pandas as pd"
   ]
  },
  {
   "cell_type": "code",
   "execution_count": 144,
   "metadata": {},
   "outputs": [],
   "source": [
    "class ItemPool:\n",
    "    def __init__(self) :\n",
    "        self.items = []\n",
    "        # self.max_prizes = 10000\n",
    "        self.df = ''\n",
    "        self.lock = threading.Lock()\n",
    "    \n",
    "    def add_item(self, dataframe):\n",
    "        for item, num in zip(dataframe['item_name'], dataframe['prob_nums']):\n",
    "            num = int(float(num.strip().replace('%', ''))*100)\n",
    "            self.items += [item] * num\n",
    "        random.shuffle(self.items)\n",
    "    \n",
    "    def draw_item(self):\n",
    "        with self.lock:\n",
    "            # 如果獎池為空補充獎池\n",
    "            if not self.prizes:\n",
    "                # Refill poll\n",
    "                self.add_item(self.df)\n",
    "\n",
    "            # Draw\n",
    "            random_item_index = random.randint(0, len(self.prizes) - 1)\n",
    "            # pop => 移除並取得該 index 的物品\n",
    "            random_item = self.prizes.pop(random_item_index)\n",
    "            \n",
    "            return random_item\n",
    "        "
   ]
  },
  {
   "cell_type": "code",
   "execution_count": 145,
   "metadata": {},
   "outputs": [],
   "source": [
    "fashion_box_table = pd.read_html(\"https://tw-event.beanfun.com/MapleStory/eventad/EventAD.aspx?EventADID=8373\")\n",
    "# 不拿第一排 道具 / 機率\n",
    "fashion_box_df = fashion_box_table[0][1:]\n",
    "fashion_box_df.columns = ['item_name', 'prob_nums']\n"
   ]
  },
  {
   "cell_type": "code",
   "execution_count": 146,
   "metadata": {},
   "outputs": [],
   "source": [
    "# 建立一個新獎池\n",
    "fashion_box_pool = PrizePool()\n",
    "# 獎池使用的 df\n",
    "fashion_box_pool.df = fashion_box_df\n",
    "# fashion_box_pool.add_prize(fashion_box_pool.df)"
   ]
  },
  {
   "cell_type": "code",
   "execution_count": 147,
   "metadata": {},
   "outputs": [
    {
     "name": "stdout",
     "output_type": "stream",
     "text": [
      "楓之谷學院名牌戒指(A)\n"
     ]
    }
   ],
   "source": [
    "item = fashion_box_pool.draw_item()\n",
    "print(item)"
   ]
  },
  {
   "cell_type": "code",
   "execution_count": 148,
   "metadata": {},
   "outputs": [
    {
     "data": {
      "text/plain": [
       "9996"
      ]
     },
     "execution_count": 148,
     "metadata": {},
     "output_type": "execute_result"
    }
   ],
   "source": [
    "len(fashion_box_pool.prizes)"
   ]
  },
  {
   "cell_type": "code",
   "execution_count": null,
   "metadata": {},
   "outputs": [],
   "source": []
  }
 ],
 "metadata": {
  "kernelspec": {
   "display_name": "Python (tensorflow-gpu)",
   "language": "python",
   "name": "tensorflow-gpu"
  },
  "language_info": {
   "codemirror_mode": {
    "name": "ipython",
    "version": 3
   },
   "file_extension": ".py",
   "mimetype": "text/x-python",
   "name": "python",
   "nbconvert_exporter": "python",
   "pygments_lexer": "ipython3",
   "version": "3.8.8"
  },
  "orig_nbformat": 4
 },
 "nbformat": 4,
 "nbformat_minor": 2
}
